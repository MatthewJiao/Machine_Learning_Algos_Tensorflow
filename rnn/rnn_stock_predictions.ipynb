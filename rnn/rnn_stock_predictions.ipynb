{
 "cells": [
  {
   "cell_type": "code",
   "execution_count": 62,
   "metadata": {},
   "outputs": [],
   "source": [
    "import pandas as pd\n",
    "import os\n",
    "from sklearn import preprocessing\n",
    "from collections import deque\n",
    "import random\n",
    "import numpy as np\n",
    "\n",
    "#df = pd.read_csv(\"crypto_data/LTC-USD.csv\", names = [\"time\", \"low\",\"high\",\"open\", \"close\", \"volume\"])\n",
    "#print(df.head())"
   ]
  },
  {
   "cell_type": "code",
   "execution_count": 63,
   "metadata": {},
   "outputs": [],
   "source": [
    "SEQ_LEN = 60\n",
    "FUTURE_PERIOD_PREDICT = 3\n",
    "RATIO_TO_PREDICT = \"LTC-USD\"\n",
    "\n",
    "def classify(current, future):\n",
    "    if float(future) > float(current):\n",
    "        return 1\n",
    "    else:\n",
    "        return 0\n",
    "    \n",
    "def preprocess_df(df):\n",
    "    df=df.drop('future',1)\n",
    "    \n",
    "    for col in df.columns:\n",
    "        if col != \"target\":\n",
    "            df[col] = df[col].pct_change()\n",
    "            df.dropna(inplace = True)\n",
    "            df[col] = preprocessing.scale(df[col].values)\n",
    "    df.dropna(inplace=True)\n",
    "    sequential_data = []\n",
    "    prev_days = deque(maxlen=SEQ_LEN)\n",
    "    '''\n",
    "    print(df.head())\n",
    "    for c in df.columns:\n",
    "        print(c)        \n",
    "    '''\n",
    "    #list of lists\n",
    "    for i in df.values:\n",
    "        prev_days.append([n for n in i[:-1]])\n",
    "        if len(prev_days) == SEQ_LEN:\n",
    "            sequential_data.append([np.array(prev_days), i[-1]])\n",
    "            \n",
    "    random.shuffle(sequential_data)\n",
    "    \n",
    "    buys = []\n",
    "    sells = []\n",
    "        \n"
   ]
  },
  {
   "cell_type": "code",
   "execution_count": 64,
   "metadata": {},
   "outputs": [],
   "source": [
    "main_df = pd.DataFrame()\n",
    "ratios = [\"BTC-USD\",\"LTC-USD\",\"ETH-USD\",\"BCH-USD\"]\n",
    "\n",
    "for ratio in ratios:\n",
    "    dataset = f\"crypto_data/{ratio}.csv\"\n",
    "    df = pd.read_csv(dataset, names = [\"time\", \"low\",\"high\",\"open\", \"close\", \"volume\"])\n",
    "    #print(df.head())\n",
    "    df.rename(columns={\"close\": f\"{ratio}_close\", \"volume\": f\"{ratio}_volume\" }, inplace=True)\n",
    "    df.set_index(\"time\", inplace = True)\n",
    "    df = df[[f\"{ratio}_close\", f\"{ratio}_volume\"]]\n",
    "    \n",
    "    if len(main_df) == 0:\n",
    "        main_df = df\n",
    "    else:\n",
    "        main_df = main_df.join(df)\n",
    "    \n",
    "main_df['future'] = main_df[f\"{RATIO_TO_PREDICT}_close\"].shift(-FUTURE_PERIOD_PREDICT)\n"
   ]
  },
  {
   "cell_type": "code",
   "execution_count": 65,
   "metadata": {},
   "outputs": [
    {
     "name": "stdout",
     "output_type": "stream",
     "text": [
      "            LTC-USD_close     future  target\n",
      "time                                        \n",
      "1528968660      96.580002  96.500000       0\n",
      "1528968720      96.660004  96.389999       0\n",
      "1528968780      96.570000  96.519997       0\n",
      "1528968840      96.500000  96.440002       0\n",
      "1528968900      96.389999  96.470001       1\n"
     ]
    }
   ],
   "source": [
    "main_df['target'] = list(map(classify, main_df[f\"{RATIO_TO_PREDICT}_close\"], main_df[\"future\"]))\n",
    "print(main_df[[f\"{RATIO_TO_PREDICT}_close\" ,\"future\",\"target\"]].head())"
   ]
  },
  {
   "cell_type": "code",
   "execution_count": 69,
   "metadata": {},
   "outputs": [
    {
     "name": "stdout",
     "output_type": "stream",
     "text": [
      "1534643640\n",
      "            BTC-USD_close  BTC-USD_volume  LTC-USD_close  LTC-USD_volume  \\\n",
      "time                                                                       \n",
      "1528968660    6489.549805        0.587100      96.580002        9.647200   \n",
      "1528968720    6487.379883        7.706374      96.660004      314.387024   \n",
      "1528968780    6479.410156        3.088252      96.570000       77.129799   \n",
      "1528968840    6479.410156        1.404100      96.500000        7.216067   \n",
      "1528968900    6479.979980        0.753000      96.389999      524.539978   \n",
      "...                   ...             ...            ...             ...   \n",
      "1534643340    6370.009766        0.576384      56.910000       43.449566   \n",
      "1534643400    6370.000000        2.011349      56.919998        6.114026   \n",
      "1534643460    6365.200195        4.101097      56.910000        3.585331   \n",
      "1534643520    6360.160156        8.866956      56.919998       10.954050   \n",
      "1534643580    6360.160156        2.431280      56.919998        7.788442   \n",
      "\n",
      "            ETH-USD_close  ETH-USD_volume  BCH-USD_close  BCH-USD_volume  \\\n",
      "time                                                                       \n",
      "1528968660            NaN             NaN     871.719971        5.675361   \n",
      "1528968720     486.010010       26.019083     870.859985       26.856577   \n",
      "1528968780     486.000000        8.449400     870.099976        1.124300   \n",
      "1528968840     485.750000       26.994646     870.789978        1.749862   \n",
      "1528968900     486.000000       77.355759     870.000000        1.680500   \n",
      "...                   ...             ...            ...             ...   \n",
      "1534643340     293.429993       21.671759     549.530029        2.589804   \n",
      "1534643400            NaN             NaN     550.049988       11.308352   \n",
      "1534643460     293.420013        1.275767     550.049988        1.098231   \n",
      "1534643520     293.190002       33.185760     549.460022        3.541107   \n",
      "1534643580     291.899994      253.679001     549.010010        0.738148   \n",
      "\n",
      "               future  target  \n",
      "time                           \n",
      "1528968660  96.500000       0  \n",
      "1528968720  96.389999       0  \n",
      "1528968780  96.519997       0  \n",
      "1528968840  96.440002       0  \n",
      "1528968900  96.470001       1  \n",
      "...               ...     ...  \n",
      "1534643340  56.919998       1  \n",
      "1534643400  56.919998       0  \n",
      "1534643460  56.910000       0  \n",
      "1534643520  56.910000       0  \n",
      "1534643580  56.910000       0  \n",
      "\n",
      "[88197 rows x 10 columns]\n"
     ]
    }
   ],
   "source": [
    "times = sorted(main_df.index.values)\n",
    "last_5pct = times[-int(0.05*len(times))]\n",
    "print(last_5pct)\n",
    "\n",
    "validation_main_df = main_df[(main_df.index >= last_5pct)]\n",
    "main_df = main_df[(main_df.index < last_5pct)]\n",
    "\n",
    "#train_x, train_y = preprocess_df(main_df)\n",
    "#validation_x, validation_y = preprocess_df(validation_main_df)\n",
    "print(main_df)"
   ]
  },
  {
   "cell_type": "code",
   "execution_count": 68,
   "metadata": {},
   "outputs": [],
   "source": [
    "preprocess_df(main_df)"
   ]
  },
  {
   "cell_type": "code",
   "execution_count": null,
   "metadata": {},
   "outputs": [],
   "source": []
  }
 ],
 "metadata": {
  "kernelspec": {
   "display_name": "Python 3",
   "language": "python",
   "name": "python3"
  },
  "language_info": {
   "codemirror_mode": {
    "name": "ipython",
    "version": 3
   },
   "file_extension": ".py",
   "mimetype": "text/x-python",
   "name": "python",
   "nbconvert_exporter": "python",
   "pygments_lexer": "ipython3",
   "version": "3.7.6"
  }
 },
 "nbformat": 4,
 "nbformat_minor": 4
}
