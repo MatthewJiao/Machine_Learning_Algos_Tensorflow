{
 "cells": [
  {
   "cell_type": "code",
   "execution_count": 12,
   "metadata": {},
   "outputs": [],
   "source": [
    "import numpy as np\n",
    "import tensorflow as tf\n",
    "from tensorflow.keras.models import Sequential\n",
    "from tensorflow.keras.layers import Dense, Dropout, Activation, Flatten, Conv2D, MaxPooling2D\n",
    "from tensorflow.keras.callbacks import TensorBoard\n",
    "import time\n",
    "\n",
    "NAME = \"CatsVSDogsCNN64x2{}\".format(int(time.time()))\n",
    "\n",
    "tensorboard = Tensorboard(Logdir='logs/{}'.format(NAME))\n",
    "\n",
    "x=np.load('features.npy')\n",
    "y=np.load('labels.npy')\n",
    "\n",
    "x=x/255\n",
    "\n"
   ]
  },
  {
   "cell_type": "code",
   "execution_count": 13,
   "metadata": {},
   "outputs": [
    {
     "name": "stdout",
     "output_type": "stream",
     "text": [
      "24946\n"
     ]
    }
   ],
   "source": [
    "print(len(x))"
   ]
  },
  {
   "cell_type": "code",
   "execution_count": 16,
   "metadata": {},
   "outputs": [
    {
     "name": "stdout",
     "output_type": "stream",
     "text": [
      "Epoch 1/10\n",
      "702/702 [==============================] - 69s 97ms/step - loss: 0.6555 - accuracy: 0.5998 - val_loss: 0.5620 - val_accuracy: 0.7054\n",
      "Epoch 2/10\n",
      "702/702 [==============================] - 70s 100ms/step - loss: 0.5202 - accuracy: 0.7427 - val_loss: 0.5525 - val_accuracy: 0.7226\n",
      "Epoch 3/10\n",
      "702/702 [==============================] - 70s 100ms/step - loss: 0.4686 - accuracy: 0.7752 - val_loss: 0.5170 - val_accuracy: 0.7519\n",
      "Epoch 4/10\n",
      "702/702 [==============================] - 70s 100ms/step - loss: 0.4300 - accuracy: 0.7990 - val_loss: 0.4990 - val_accuracy: 0.7619\n",
      "Epoch 5/10\n",
      "702/702 [==============================] - 75s 107ms/step - loss: 0.3839 - accuracy: 0.8249 - val_loss: 0.5283 - val_accuracy: 0.7487\n",
      "Epoch 6/10\n",
      "702/702 [==============================] - 70s 99ms/step - loss: 0.3493 - accuracy: 0.8445 - val_loss: 0.4990 - val_accuracy: 0.7659\n",
      "Epoch 7/10\n",
      "702/702 [==============================] - 68s 97ms/step - loss: 0.2983 - accuracy: 0.8724 - val_loss: 0.5271 - val_accuracy: 0.7679\n",
      "Epoch 8/10\n",
      "702/702 [==============================] - 74s 105ms/step - loss: 0.2483 - accuracy: 0.8989 - val_loss: 0.5150 - val_accuracy: 0.7800\n",
      "Epoch 9/10\n",
      "702/702 [==============================] - 75s 107ms/step - loss: 0.2043 - accuracy: 0.9179 - val_loss: 0.5997 - val_accuracy: 0.7747\n",
      "Epoch 10/10\n",
      "702/702 [==============================] - 76s 109ms/step - loss: 0.1707 - accuracy: 0.9348 - val_loss: 0.6104 - val_accuracy: 0.7840\n"
     ]
    },
    {
     "data": {
      "text/plain": [
       "<tensorflow.python.keras.callbacks.History at 0x1ab37e377c8>"
      ]
     },
     "execution_count": 16,
     "metadata": {},
     "output_type": "execute_result"
    }
   ],
   "source": [
    "model = Sequential()\n",
    "\n",
    "model.add(Conv2D(64, (3,3), input_shape = x.shape[1:]))\n",
    "model.add(Activation(\"relu\"))\n",
    "model.add(MaxPooling2D(pool_size=(2,2)))\n",
    "\n",
    "model.add(Conv2D(64, (3,3)))\n",
    "model.add(Activation(\"relu\"))\n",
    "model.add(MaxPooling2D(pool_size=(2,2)))\n",
    "\n",
    "model.add(Flatten())\n",
    "\n",
    "model.add(Dense(64))\n",
    "model.add(Activation('relu'))\n",
    "\n",
    "model.add(Dense(1))\n",
    "model.add(Activation('sigmoid'))\n",
    "\n",
    "# categorical works too\n",
    "model.compile(loss=\"binary_crossentropy\", optimizer = \"adam\", metrics=['accuracy'])\n",
    "\n",
    "model.fit(x,y, batch_size=32, epochs=10, validation_split=0.1)\n"
   ]
  },
  {
   "cell_type": "code",
   "execution_count": 18,
   "metadata": {},
   "outputs": [
    {
     "name": "stdout",
     "output_type": "stream",
     "text": [
      "780/780 [==============================] - 15s 20ms/step - loss: 0.1666 - accuracy: 0.94400s - loss: 0.1614 - accuracy\n",
      "0.16655303537845612 0.9439990520477295\n"
     ]
    }
   ],
   "source": [
    "val_loss, val_acc = model.evaluate(x,y)\n",
    "print(val_loss, val_acc)"
   ]
  },
  {
   "cell_type": "code",
   "execution_count": 19,
   "metadata": {},
   "outputs": [
    {
     "name": "stdout",
     "output_type": "stream",
     "text": [
      "INFO:tensorflow:Assets written to: cat_dog_classifier.model\\assets\n"
     ]
    }
   ],
   "source": [
    "#model.save('cat_dog_classifier.model')"
   ]
  },
  {
   "cell_type": "code",
   "execution_count": 20,
   "metadata": {},
   "outputs": [],
   "source": [
    "new_model = tf.keras.models.load_model('cat_dog_classifier.model')\n",
    "\n",
    "predictions = new_model.predict([x])\n"
   ]
  },
  {
   "cell_type": "code",
   "execution_count": 86,
   "metadata": {},
   "outputs": [],
   "source": [
    "i=12"
   ]
  },
  {
   "cell_type": "code",
   "execution_count": 87,
   "metadata": {},
   "outputs": [
    {
     "name": "stdout",
     "output_type": "stream",
     "text": [
      "[0.01388901]\n"
     ]
    }
   ],
   "source": [
    "print(predictions[i])"
   ]
  },
  {
   "cell_type": "code",
   "execution_count": 88,
   "metadata": {},
   "outputs": [],
   "source": [
    "#import matplotlib.pyplot as plt\n",
    "#import cv2"
   ]
  },
  {
   "cell_type": "code",
   "execution_count": 89,
   "metadata": {},
   "outputs": [
    {
     "name": "stdout",
     "output_type": "stream",
     "text": [
      "(50, 50)\n"
     ]
    }
   ],
   "source": [
    "test = x[i]\n",
    "test = cv2.resize(test, (50, 50))\n",
    "print(test.shape)\n"
   ]
  },
  {
   "cell_type": "code",
   "execution_count": 90,
   "metadata": {},
   "outputs": [
    {
     "name": "stdout",
     "output_type": "stream",
     "text": [
      "0\n"
     ]
    },
    {
     "data": {
      "image/png": "[encoded data removed]",
      "text/plain": [
       "<Figure size 432x288 with 1 Axes>"
      ]
     },
     "metadata": {
      "needs_background": "light"
     },
     "output_type": "display_data"
    }
   ],
   "source": [
    "print(y[i])\n",
    "plt.imshow(test, cmap = \"gray\")\n",
    "plt.show()"
   ]
  },
  {
   "cell_type": "code",
   "execution_count": null,
   "metadata": {},
   "outputs": [],
   "source": []
  }
 ],
 "metadata": {
  "kernelspec": {
   "display_name": "Python 3",
   "language": "python",
   "name": "python3"
  },
  "language_info": {
   "codemirror_mode": {
    "name": "ipython",
    "version": 3
   },
   "file_extension": ".py",
   "mimetype": "text/x-python",
   "name": "python",
   "nbconvert_exporter": "python",
   "pygments_lexer": "ipython3",
   "version": "3.7.6"
  }
 },
 "nbformat": 4,
 "nbformat_minor": 4
}
