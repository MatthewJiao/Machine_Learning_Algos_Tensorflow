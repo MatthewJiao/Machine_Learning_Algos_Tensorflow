{
 "cells": [
  {
   "cell_type": "code",
   "execution_count": null,
   "metadata": {},
   "outputs": [],
   "source": []
  },
  {
   "cell_type": "code",
   "execution_count": 2,
   "metadata": {},
   "outputs": [],
   "source": [
    "\n",
    "import numpy as np\n",
    "import tensorflow as tf\n",
    "from tensorflow.keras.models import Sequential\n",
    "from tensorflow.keras.layers import Dense, Dropout, Activation, Flatten, Conv2D, MaxPooling2D\n",
    "from tensorflow.keras.callbacks import TensorBoard\n",
    "import time\n",
    "\n",
    "#NAME = \"CatsVSDogsCNN64x2{}\".format(int(time.time()))\n",
    "#print(NAME)\n",
    "\n",
    "tensorboard = TensorBoard(log_dir='logs/{}'.format(NAME))\n",
    "#tensorboard --logdir=logs/ \n",
    "\n",
    "x=np.load('features.npy')\n",
    "y=np.load('labels.npy')\n",
    "\n",
    "x=x/255\n",
    "\n"
   ]
  },
  {
   "cell_type": "code",
   "execution_count": 3,
   "metadata": {},
   "outputs": [
    {
     "name": "stdout",
     "output_type": "stream",
     "text": [
      "24946\n"
     ]
    }
   ],
   "source": [
    "print(len(x))"
   ]
  },
  {
   "cell_type": "code",
   "execution_count": 5,
   "metadata": {},
   "outputs": [
    {
     "name": "stdout",
     "output_type": "stream",
     "text": [
      "1-conv-32-nodes-0-dense-1608836906\n",
      "546/546 [==============================] - 19s 34ms/step - loss: 0.6559 - accuracy: 0.6096 - val_loss: 0.5794 - val_accuracy: 0.7028\n",
      "2-conv-32-nodes-0-dense-1608836925\n",
      "546/546 [==============================] - 30s 53ms/step - loss: 0.6660 - accuracy: 0.5953 - val_loss: 0.6340 - val_accuracy: 0.6251\n",
      "3-conv-32-nodes-0-dense-1608836954\n",
      "546/546 [==============================] - 31s 56ms/step - loss: 0.6810 - accuracy: 0.5494 - val_loss: 0.6116 - val_accuracy: 0.6733\n",
      "1-conv-64-nodes-0-dense-1608836987\n",
      "546/546 [==============================] - 28s 51ms/step - loss: 0.6515 - accuracy: 0.6151 - val_loss: 0.5764 - val_accuracy: 0.7070\n",
      "2-conv-64-nodes-0-dense-1608837016\n",
      "546/546 [==============================] - 61s 110ms/step - loss: 0.6625 - accuracy: 0.5864 - val_loss: 0.5562 - val_accuracy: 0.7233\n",
      "3-conv-64-nodes-0-dense-1608837076\n",
      "546/546 [==============================] - 67s 121ms/step - loss: 0.6729 - accuracy: 0.5656 - val_loss: 0.6101 - val_accuracy: 0.6680\n",
      "1-conv-128-nodes-0-dense-1608837143\n",
      "546/546 [==============================] - 52s 94ms/step - loss: 0.6526 - accuracy: 0.6196 - val_loss: 0.5780 - val_accuracy: 0.7010\n",
      "2-conv-128-nodes-0-dense-1608837196\n",
      "546/546 [==============================] - 130s 238ms/step - loss: 0.6743 - accuracy: 0.5641 - val_loss: 0.5970 - val_accuracy: 0.6815\n",
      "3-conv-128-nodes-0-dense-1608837327\n",
      "546/546 [==============================] - 151s 275ms/step - loss: 0.6769 - accuracy: 0.5606 - val_loss: 0.5702 - val_accuracy: 0.7094\n",
      "1-conv-32-nodes-1-dense-1608837478\n",
      "546/546 [==============================] - 20s 35ms/step - loss: 0.6674 - accuracy: 0.6001 - val_loss: 0.6088 - val_accuracy: 0.6757\n",
      "2-conv-32-nodes-1-dense-1608837498\n",
      "546/546 [==============================] - 29s 52ms/step - loss: 0.6691 - accuracy: 0.5836 - val_loss: 0.5745 - val_accuracy: 0.7023\n",
      "3-conv-32-nodes-1-dense-1608837527\n",
      "546/546 [==============================] - 33s 60ms/step - loss: 0.6754 - accuracy: 0.5643 - val_loss: 0.6195 - val_accuracy: 0.6538\n",
      "1-conv-64-nodes-1-dense-1608837560\n",
      "546/546 [==============================] - 33s 60ms/step - loss: 0.6757 - accuracy: 0.5940 - val_loss: 0.5777 - val_accuracy: 0.7044\n",
      "2-conv-64-nodes-1-dense-1608837594\n",
      "546/546 [==============================] - 57s 103ms/step - loss: 0.6706 - accuracy: 0.5602 - val_loss: 0.5772 - val_accuracy: 0.7062\n",
      "3-conv-64-nodes-1-dense-1608837651\n",
      "546/546 [==============================] - 62s 113ms/step - loss: 0.6791 - accuracy: 0.5484 - val_loss: 0.5749 - val_accuracy: 0.7050\n",
      "1-conv-128-nodes-1-dense-1608837714\n",
      "546/546 [==============================] - 82s 149ms/step - loss: 0.6905 - accuracy: 0.6106 - val_loss: 0.5670 - val_accuracy: 0.7039\n",
      "2-conv-128-nodes-1-dense-1608837796\n",
      "546/546 [==============================] - 136s 248ms/step - loss: 0.6873 - accuracy: 0.5393 - val_loss: 0.6201 - val_accuracy: 0.6696\n",
      "3-conv-128-nodes-1-dense-1608837933\n",
      "546/546 [==============================] - 146s 266ms/step - loss: 0.6875 - accuracy: 0.5438 - val_loss: 0.6571 - val_accuracy: 0.5856\n",
      "1-conv-32-nodes-2-dense-1608838079\n",
      "546/546 [==============================] - 19s 32ms/step - loss: 0.6499 - accuracy: 0.6098 - val_loss: 0.5617 - val_accuracy: 0.7131\n",
      "2-conv-32-nodes-2-dense-1608838098\n",
      "546/546 [==============================] - 28s 51ms/step - loss: 0.6645 - accuracy: 0.5817 - val_loss: 0.5870 - val_accuracy: 0.6929\n",
      "3-conv-32-nodes-2-dense-1608838126\n",
      "546/546 [==============================] - 32s 58ms/step - loss: 0.6896 - accuracy: 0.5273 - val_loss: 0.6307 - val_accuracy: 0.6581\n",
      "1-conv-64-nodes-2-dense-1608838159\n",
      "546/546 [==============================] - 35s 62ms/step - loss: 0.6481 - accuracy: 0.6115 - val_loss: 0.5592 - val_accuracy: 0.7187\n",
      "2-conv-64-nodes-2-dense-1608838194\n",
      "546/546 [==============================] - 62s 113ms/step - loss: 0.6766 - accuracy: 0.5505 - val_loss: 0.5773 - val_accuracy: 0.7066\n",
      "3-conv-64-nodes-2-dense-1608838256\n",
      "546/546 [==============================] - 57s 103ms/step - loss: 0.6864 - accuracy: 0.5264 - val_loss: 0.5976 - val_accuracy: 0.6796\n",
      "1-conv-128-nodes-2-dense-1608838313\n",
      "546/546 [==============================] - 71s 129ms/step - loss: 0.6459 - accuracy: 0.6204 - val_loss: 0.5586 - val_accuracy: 0.7082\n",
      "2-conv-128-nodes-2-dense-1608838385\n",
      "546/546 [==============================] - 123s 225ms/step - loss: 0.6652 - accuracy: 0.5772 - val_loss: 0.5675 - val_accuracy: 0.7110\n",
      "3-conv-128-nodes-2-dense-1608838508\n",
      "546/546 [==============================] - 135s 246ms/step - loss: 0.6784 - accuracy: 0.5646 - val_loss: 0.5663 - val_accuracy: 0.7066\n"
     ]
    }
   ],
   "source": [
    "dense_layers = [0,1,2]\n",
    "layer_sizes = [32,64,128]\n",
    "conv_layers = [1,2,3]\n",
    "\n",
    "for dense_layer in dense_layers:\n",
    "    for layer_size in layer_sizes:\n",
    "        for conv_layer in conv_layers:\n",
    "            NAME = \"{}-conv-{}-nodes-{}-dense-{}\".format(conv_layer, layer_size, dense_layer, int(time.time()))\n",
    "            tensorboard = TensorBoard(log_dir='logs/{}'.format(NAME))\n",
    "            print(NAME)\n",
    "\n",
    "\n",
    "            model = Sequential()\n",
    "\n",
    "            model.add(Conv2D(layer_size, (3,3), input_shape = x.shape[1:]))\n",
    "            model.add(Activation(\"relu\"))\n",
    "            model.add(MaxPooling2D(pool_size=(2,2)))\n",
    "            \n",
    "            for l in range(conv_layer-1):\n",
    "                model.add(Conv2D(layer_size, (3,3)))\n",
    "                model.add(Activation(\"relu\"))\n",
    "                model.add(MaxPooling2D(pool_size=(2,2)))\n",
    "\n",
    "            model.add(Flatten())\n",
    "\n",
    "            for l in range(dense_layer):\n",
    "                model.add(Dense(layer_size))\n",
    "                model.add(Activation('relu'))\n",
    "                #model.add(Dropout(0.2))\n",
    "\n",
    "            model.add(Dense(1))\n",
    "            model.add(Activation('sigmoid'))\n",
    "\n",
    "            # categorical works too\n",
    "            model.compile(loss=\"binary_crossentropy\", optimizer = \"adam\", metrics=['accuracy'])\n",
    "\n",
    "            model.fit(x,y, batch_size=32, epochs=1, validation_split=0.3, callbacks= [tensorboard])\n",
    "\n"
   ]
  },
  {
   "cell_type": "code",
   "execution_count": 106,
   "metadata": {},
   "outputs": [
    {
     "name": "stdout",
     "output_type": "stream",
     "text": [
      "780/780 [==============================] - 16s 20ms/step - loss: 0.3519 - accuracy: 0.8469\n",
      "0.35194477438926697 0.8469093441963196\n"
     ]
    }
   ],
   "source": [
    "val_loss, val_acc = model.evaluate(x,y)\n",
    "print(val_loss, val_acc)"
   ]
  },
  {
   "cell_type": "code",
   "execution_count": 108,
   "metadata": {},
   "outputs": [
    {
     "name": "stdout",
     "output_type": "stream",
     "text": [
      "INFO:tensorflow:Assets written to: cat_dog_classifier.model\\assets\n"
     ]
    }
   ],
   "source": [
    "#model.save('cat_dog_classifier.model')"
   ]
  },
  {
   "cell_type": "code",
   "execution_count": 109,
   "metadata": {},
   "outputs": [],
   "source": [
    "new_model = tf.keras.models.load_model('cat_dog_classifier.model')\n",
    "\n",
    "predictions = new_model.predict([x])\n"
   ]
  },
  {
   "cell_type": "code",
   "execution_count": 155,
   "metadata": {},
   "outputs": [],
   "source": [
    "i=9"
   ]
  },
  {
   "cell_type": "code",
   "execution_count": 156,
   "metadata": {},
   "outputs": [
    {
     "name": "stdout",
     "output_type": "stream",
     "text": [
      "[0.91867155]\n"
     ]
    }
   ],
   "source": [
    "print(predictions[i])"
   ]
  },
  {
   "cell_type": "code",
   "execution_count": 154,
   "metadata": {},
   "outputs": [],
   "source": [
    "#import matplotlib.pyplot as plt\n",
    "#import cv2"
   ]
  },
  {
   "cell_type": "code",
   "execution_count": 150,
   "metadata": {},
   "outputs": [
    {
     "name": "stdout",
     "output_type": "stream",
     "text": [
      "(50, 50)\n"
     ]
    }
   ],
   "source": [
    "test = x[i]\n",
    "test = cv2.resize(test, (50, 50))\n",
    "print(test.shape)\n"
   ]
  },
  {
   "cell_type": "code",
   "execution_count": 151,
   "metadata": {},
   "outputs": [
    {
     "name": "stdout",
     "output_type": "stream",
     "text": [
      "1\n"
     ]
    },
    {
     "data": {
      "image/png": "[encoded data removed]",
      "text/plain": [
       "<Figure size 432x288 with 1 Axes>"
      ]
     },
     "metadata": {
      "needs_background": "light"
     },
     "output_type": "display_data"
    }
   ],
   "source": [
    "print(y[i])\n",
    "plt.imshow(test, cmap = \"gray\")\n",
    "plt.show()"
   ]
  },
  {
   "cell_type": "code",
   "execution_count": null,
   "metadata": {},
   "outputs": [],
   "source": []
  },
  {
   "cell_type": "code",
   "execution_count": null,
   "metadata": {},
   "outputs": [],
   "source": []
  }
 ],
 "metadata": {
  "kernelspec": {
   "display_name": "Python 3",
   "language": "python",
   "name": "python3"
  },
  "language_info": {
   "codemirror_mode": {
    "name": "ipython",
    "version": 3
   },
   "file_extension": ".py",
   "mimetype": "text/x-python",
   "name": "python",
   "nbconvert_exporter": "python",
   "pygments_lexer": "ipython3",
   "version": "3.7.6"
  }
 },
 "nbformat": 4,
 "nbformat_minor": 4
}
